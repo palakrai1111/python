{
  "nbformat": 4,
  "nbformat_minor": 0,
  "metadata": {
    "colab": {
      "provenance": []
    },
    "kernelspec": {
      "name": "python3",
      "display_name": "Python 3"
    },
    "language_info": {
      "name": "python"
    }
  },
  "cells": [
    {
      "cell_type": "code",
      "execution_count": null,
      "metadata": {
        "id": "r1H4zwvZvl0W"
      },
      "outputs": [],
      "source": []
    },
    {
      "cell_type": "markdown",
      "source": [
        "#Python"
      ],
      "metadata": {
        "id": "yfEtG3PGwzYJ"
      }
    },
    {
      "cell_type": "markdown",
      "source": [
        "Qno.1 Explain the key features of Python that make it a popular choice for programming\n",
        "\n",
        "Answer - Python is a popular programming language that has many features that make it a popular choice for programming.\n",
        "Python is simple and easy to understand which feels like reading simple english.\n",
        "The pseudo code nature of python it easy to learn and understandable by beginners.\n",
        "Python is an interpreted language which means that the code is executed line by line.\n",
        "Python is free and open source.\n",
        "Protable - work on linux/window/mac.\n",
        "\n",
        "\n",
        "\n",
        "Q.no.2 Describe the role of predefined keywords in Python and provide examples of how they are used in a program.\n",
        "Answer - In Python, predefined keywords are special reserved words that the interpreter recognizes as having specific meanings. They are integral to the language and play a crucial role in defining its syntax, structure, and overall logic.\n",
        "Here is some example of keyword and how they are used\n",
        "1. Break - break is used to come out of the lopp encountered. Its instruct the program to exit the loop now.\n",
        "\n",
        "\n"
      ],
      "metadata": {
        "id": "yW9_t8XfxIVE"
      }
    },
    {
      "cell_type": "code",
      "source": [
        "for i in range(0,8):\n",
        "  print(i)\n",
        "  if i == 3:\n",
        "    break\n",
        "#this will print 0,1,2,3"
      ],
      "metadata": {
        "colab": {
          "base_uri": "https://localhost:8080/"
        },
        "id": "hx99HvwUyfpW",
        "outputId": "b6273302-80dc-4f10-a38f-e8043d605fea"
      },
      "execution_count": 1,
      "outputs": [
        {
          "output_type": "stream",
          "name": "stdout",
          "text": [
            "0\n",
            "1\n",
            "2\n",
            "3\n"
          ]
        }
      ]
    },
    {
      "cell_type": "markdown",
      "source": [
        "2. Continue - Continue is used to stop the current iteration of the loop and continue with the next one. It instruct the program to \"skip this iteration\"."
      ],
      "metadata": {
        "id": "35e2WJ0yylB8"
      }
    },
    {
      "cell_type": "code",
      "source": [
        "for i in range(1, 8):\n",
        "    if i == 3:\n",
        "        continue  # if i is 3, then iteration is skipped\n",
        "    print(i)\n"
      ],
      "metadata": {
        "colab": {
          "base_uri": "https://localhost:8080/"
        },
        "id": "XxSkYz2ry0rX",
        "outputId": "49ca5c98-c014-4e75-c4dc-59fda37f0b3d"
      },
      "execution_count": 2,
      "outputs": [
        {
          "output_type": "stream",
          "name": "stdout",
          "text": [
            "1\n",
            "2\n",
            "4\n",
            "5\n",
            "6\n",
            "7\n"
          ]
        }
      ]
    },
    {
      "cell_type": "markdown",
      "source": [
        "Qno. 3- Compare and contrast mutable and immutable objects in Python with examples.\n",
        "\n",
        "Answer - Mutable object is one that can be changed after it is created. You can modify its contents or internal state—such as updating, adding, or removing elements—without creating a new object in memory. Even after these changes, the object retains the same identity or memory address.\n",
        "Exapmle - Examples: list, dict, set.\n",
        "\n"
      ],
      "metadata": {
        "id": "pK1XcHm7y-Uo"
      }
    },
    {
      "cell_type": "code",
      "source": [
        "my_list = [1, 2, 3]\n",
        "my_list.append(40)\n",
        "print(my_list)     #[Output: [1,2,3,40]]\n"
      ],
      "metadata": {
        "colab": {
          "base_uri": "https://localhost:8080/"
        },
        "id": "shBOK0-NzCzM",
        "outputId": "4eaac300-f394-45bb-da11-70842b0ae5bf"
      },
      "execution_count": 3,
      "outputs": [
        {
          "output_type": "stream",
          "name": "stdout",
          "text": [
            "[1, 2, 3, 40]\n"
          ]
        }
      ]
    },
    {
      "cell_type": "code",
      "source": [
        "my_list = [1, 2, 3]\n",
        "my_list.remove(2)\n",
        "print(my_list)    #Output: [1,3]"
      ],
      "metadata": {
        "colab": {
          "base_uri": "https://localhost:8080/"
        },
        "id": "lCYcHccmzMid",
        "outputId": "106e47bd-7104-4d98-b078-10017603b94f"
      },
      "execution_count": 4,
      "outputs": [
        {
          "output_type": "stream",
          "name": "stdout",
          "text": [
            "[1, 3]\n"
          ]
        }
      ]
    },
    {
      "cell_type": "markdown",
      "source": [],
      "metadata": {
        "id": "FWx7iyb7zbcA"
      }
    },
    {
      "cell_type": "markdown",
      "source": [
        "Immutable - In Python, an immutable object is one that cannot be changed after it is created. If you try to modify it, a new object is created instead.\n",
        "Example - str, int, floot, tuple."
      ],
      "metadata": {
        "id": "d0A916fyzcyI"
      }
    },
    {
      "cell_type": "code",
      "source": [
        "my_str = \"pw\"\n",
        "my_str = my_str + \"skills\"\n",
        "print(my_str)               # Output: \"pwskills\"\n"
      ],
      "metadata": {
        "colab": {
          "base_uri": "https://localhost:8080/"
        },
        "id": "QtGnxdDJzgBa",
        "outputId": "ea2cbd6e-ce03-4dc7-8901-e48fd9c9aef8"
      },
      "execution_count": 5,
      "outputs": [
        {
          "output_type": "stream",
          "name": "stdout",
          "text": [
            "pwskills\n"
          ]
        }
      ]
    },
    {
      "cell_type": "markdown",
      "source": [],
      "metadata": {
        "id": "mMQHyHsLzsRm"
      }
    },
    {
      "cell_type": "markdown",
      "source": [
        "Qno. 4- Discuss the different types of operators in Python and provide examples of how they are used.\n",
        "\n",
        "Answer - a. Arithmetic operators = Arithmetic operators are used to perform mathematical operations like addition, subtraction, multiplication, division, and more.\n",
        "Example - +,-,*,/ ect"
      ],
      "metadata": {
        "id": "PYwSn9Ogzs2v"
      }
    },
    {
      "cell_type": "code",
      "source": [
        "x= 10\n",
        "y = 8\n",
        "print(x+y)\n",
        "print(x-y)\n",
        "print(x*y)\n",
        "print(x/y)\n",
        "print(x%y)\n",
        "print(x**y)\n",
        "print(x//y)"
      ],
      "metadata": {
        "colab": {
          "base_uri": "https://localhost:8080/"
        },
        "id": "htfajx8dzxTi",
        "outputId": "ea28f08c-b0dd-40bc-c12a-c63e54194c87"
      },
      "execution_count": 7,
      "outputs": [
        {
          "output_type": "stream",
          "name": "stdout",
          "text": [
            "18\n",
            "2\n",
            "80\n",
            "1.25\n",
            "2\n",
            "100000000\n",
            "1\n"
          ]
        }
      ]
    },
    {
      "cell_type": "markdown",
      "source": [],
      "metadata": {
        "id": "9oUPBTfWz69q"
      }
    },
    {
      "cell_type": "markdown",
      "source": [
        "2. Assignment operators - Assignment operators are used to assign values to variables.\n",
        "Example = =,+=,-=,ect.\n"
      ],
      "metadata": {
        "id": "Z9XjLP7oz7pJ"
      }
    },
    {
      "cell_type": "code",
      "source": [
        "x = 10\n",
        "x += 5   # x becomes 15\n",
        "print(x)\n"
      ],
      "metadata": {
        "colab": {
          "base_uri": "https://localhost:8080/"
        },
        "id": "iJ-ttmuHz_b_",
        "outputId": "56215da7-17a1-4ade-d5f6-c84268b40cbe"
      },
      "execution_count": 8,
      "outputs": [
        {
          "output_type": "stream",
          "name": "stdout",
          "text": [
            "15\n"
          ]
        }
      ]
    },
    {
      "cell_type": "code",
      "source": [
        "x *= 2  # x becomes 30\n",
        "print(x)"
      ],
      "metadata": {
        "colab": {
          "base_uri": "https://localhost:8080/"
        },
        "id": "I0fCksvc0DE3",
        "outputId": "4943fa92-ac1e-416d-badd-38bf241e125e"
      },
      "execution_count": 9,
      "outputs": [
        {
          "output_type": "stream",
          "name": "stdout",
          "text": [
            "30\n"
          ]
        }
      ]
    },
    {
      "cell_type": "code",
      "source": [
        "x -= 10   # x becomes 20\n",
        "print(x)\n"
      ],
      "metadata": {
        "colab": {
          "base_uri": "https://localhost:8080/"
        },
        "id": "7l8YdoZb0IBR",
        "outputId": "d08629c0-b746-4173-f911-594731778f09"
      },
      "execution_count": 10,
      "outputs": [
        {
          "output_type": "stream",
          "name": "stdout",
          "text": [
            "20\n"
          ]
        }
      ]
    },
    {
      "cell_type": "markdown",
      "source": [],
      "metadata": {
        "id": "4-qmxYsm0VXT"
      }
    },
    {
      "cell_type": "markdown",
      "source": [
        "3. Logical operators - Logical operators are used to combine conditional statements. They return True or False based on the logic between the expressions."
      ],
      "metadata": {
        "id": "H4yP72P70V3j"
      }
    },
    {
      "cell_type": "code",
      "source": [
        "a = 10\n",
        "b = 5\n",
        "\n",
        "# AND operator\n",
        "print(a > 5 and b < 10)   # True and True → True\n",
        "\n",
        "# OR operator\n",
        "print(a < 5 or b < 10)    # False or True → True\n",
        "\n",
        "# NOT operator\n",
        "print(not(a < 5))         # not False → True\n"
      ],
      "metadata": {
        "colab": {
          "base_uri": "https://localhost:8080/"
        },
        "id": "KpOJeFWR0Zhl",
        "outputId": "3e3ac423-562f-473e-fd4a-1655f0797f5a"
      },
      "execution_count": 11,
      "outputs": [
        {
          "output_type": "stream",
          "name": "stdout",
          "text": [
            "True\n",
            "True\n",
            "True\n"
          ]
        }
      ]
    }
  ]
}